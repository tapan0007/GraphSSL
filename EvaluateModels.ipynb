{
 "cells": [
  {
   "cell_type": "markdown",
   "id": "00f51b84",
   "metadata": {},
   "source": [
    "## Testing notebook for evaluating model performance"
   ]
  },
  {
   "cell_type": "code",
   "execution_count": 2,
   "id": "ca85b7ad",
   "metadata": {},
   "outputs": [],
   "source": [
    "import argparse\n",
    "import dgl\n",
    "import dgl.function as fn\n",
    "import torch as th\n",
    "import torch.nn as nn\n",
    "import torch.nn.functional as F\n",
    "import time\n",
    "import sklearn.model_selection as sk\n",
    "import numpy as np\n",
    "from gcn import load_elliptic_data, Net, evaluate, train_gcn_model\n",
    "from sklearn import metrics\n",
    "from imblearn.metrics import geometric_mean_score\n",
    "import matplotlib.pyplot as plt\n",
    "\n",
    "from dgl import AddSelfLoop\n",
    "from graphSAGE import SAGE, train_sage_model\n",
    "from performance import performance_metrics"
   ]
  },
  {
   "cell_type": "code",
   "execution_count": 2,
   "id": "7125e206",
   "metadata": {},
   "outputs": [
    {
     "name": "stdout",
     "output_type": "stream",
     "text": [
      "Training with DGL built-in GCN module\n"
     ]
    },
    {
     "name": "stderr",
     "output_type": "stream",
     "text": [
      "/opt/anaconda3/lib/python3.9/site-packages/numpy/core/fromnumeric.py:3419: RuntimeWarning: Mean of empty slice.\n",
      "  return _methods._mean(a, axis=axis, dtype=dtype,\n",
      "/opt/anaconda3/lib/python3.9/site-packages/numpy/core/_methods.py:188: RuntimeWarning: invalid value encountered in double_scalars\n",
      "  ret = ret.dtype.type(ret / rcount)\n"
     ]
    },
    {
     "name": "stdout",
     "output_type": "stream",
     "text": [
      "Epoch 00000 | Loss 410.1149 | Test Acc 0.9016 | Time(s) nan\n",
      "Epoch 00001 | Loss 101.2159 | Test Acc 0.9016 | Time(s) nan\n",
      "Epoch 00002 | Loss 137.6065 | Test Acc 0.9016 | Time(s) nan\n",
      "Epoch 00003 | Loss 163.2938 | Test Acc 0.9016 | Time(s) 0.4273\n",
      "Epoch 00004 | Loss 183.7825 | Test Acc 0.9017 | Time(s) 0.4264\n",
      "Epoch 00005 | Loss 192.9055 | Test Acc 0.9017 | Time(s) 0.4249\n",
      "Epoch 00006 | Loss 191.7369 | Test Acc 0.9017 | Time(s) 0.4257\n",
      "Epoch 00007 | Loss 181.8551 | Test Acc 0.9017 | Time(s) 0.4246\n",
      "Epoch 00008 | Loss 164.8024 | Test Acc 0.9017 | Time(s) 0.4239\n",
      "Epoch 00009 | Loss 142.2092 | Test Acc 0.9016 | Time(s) 0.4241\n",
      "Epoch 00010 | Loss 114.4856 | Test Acc 0.9009 | Time(s) 0.4240\n",
      "Epoch 00011 | Loss 82.4506 | Test Acc 0.8974 | Time(s) 0.4247\n",
      "Epoch 00012 | Loss 46.2322 | Test Acc 0.8182 | Time(s) 0.4257\n",
      "Epoch 00013 | Loss 6.1009 | Test Acc 0.0989 | Time(s) 0.4262\n",
      "Epoch 00014 | Loss 1959.8722 | Test Acc 0.3156 | Time(s) 0.4265\n",
      "Epoch 00015 | Loss 49.3372 | Test Acc 0.8933 | Time(s) 0.4260\n",
      "Epoch 00016 | Loss 50.9174 | Test Acc 0.8994 | Time(s) 0.4273\n",
      "Epoch 00017 | Loss 97.2196 | Test Acc 0.9003 | Time(s) 0.4266\n",
      "Epoch 00018 | Loss 137.9739 | Test Acc 0.9006 | Time(s) 0.4266\n",
      "Epoch 00019 | Loss 173.7109 | Test Acc 0.9008 | Time(s) 0.4263\n",
      "Epoch 00020 | Loss 204.9542 | Test Acc 0.9009 | Time(s) 0.4256\n",
      "Epoch 00021 | Loss 232.0641 | Test Acc 0.9011 | Time(s) 0.4251\n",
      "Epoch 00022 | Loss 255.3565 | Test Acc 0.9012 | Time(s) 0.4258\n",
      "Epoch 00023 | Loss 275.2524 | Test Acc 0.9012 | Time(s) 0.4256\n",
      "Epoch 00024 | Loss 292.1272 | Test Acc 0.9011 | Time(s) 0.4256\n",
      "Epoch 00025 | Loss 306.2627 | Test Acc 0.9011 | Time(s) 0.4255\n",
      "Epoch 00026 | Loss 317.5458 | Test Acc 0.9011 | Time(s) 0.4249\n",
      "Epoch 00027 | Loss 325.9126 | Test Acc 0.9010 | Time(s) 0.4245\n",
      "Epoch 00028 | Loss 331.7286 | Test Acc 0.9010 | Time(s) 0.4245\n",
      "Epoch 00029 | Loss 335.2133 | Test Acc 0.9010 | Time(s) 0.4241\n",
      "Epoch 00030 | Loss 336.5626 | Test Acc 0.9009 | Time(s) 0.4237\n",
      "Epoch 00031 | Loss 335.9757 | Test Acc 0.9006 | Time(s) 0.4234\n",
      "Epoch 00032 | Loss 333.6749 | Test Acc 0.9005 | Time(s) 0.4232\n",
      "Epoch 00033 | Loss 329.8241 | Test Acc 0.9003 | Time(s) 0.4231\n",
      "Epoch 00034 | Loss 324.6085 | Test Acc 0.9000 | Time(s) 0.4229\n",
      "Epoch 00035 | Loss 318.2041 | Test Acc 0.8999 | Time(s) 0.4235\n",
      "Epoch 00036 | Loss 310.7706 | Test Acc 0.8992 | Time(s) 0.4238\n",
      "Epoch 00037 | Loss 302.4656 | Test Acc 0.8988 | Time(s) 0.4244\n",
      "Epoch 00038 | Loss 293.4370 | Test Acc 0.8979 | Time(s) 0.4243\n",
      "Epoch 00039 | Loss 283.8157 | Test Acc 0.8973 | Time(s) 0.4241\n",
      "Epoch 00040 | Loss 273.7204 | Test Acc 0.8964 | Time(s) 0.4238\n",
      "Epoch 00041 | Loss 263.2603 | Test Acc 0.8950 | Time(s) 0.4237\n",
      "Epoch 00042 | Loss 252.5315 | Test Acc 0.8943 | Time(s) 0.4236\n",
      "Epoch 00043 | Loss 241.6248 | Test Acc 0.8932 | Time(s) 0.4234\n",
      "Epoch 00044 | Loss 230.6285 | Test Acc 0.8921 | Time(s) 0.4233\n",
      "Epoch 00045 | Loss 219.6056 | Test Acc 0.8912 | Time(s) 0.4236\n",
      "Epoch 00046 | Loss 208.6183 | Test Acc 0.8895 | Time(s) 0.4234\n",
      "Epoch 00047 | Loss 197.7137 | Test Acc 0.8889 | Time(s) 0.4233\n",
      "Epoch 00048 | Loss 186.9556 | Test Acc 0.8879 | Time(s) 0.4231\n",
      "Epoch 00049 | Loss 176.4262 | Test Acc 0.8862 | Time(s) 0.4229\n",
      "Epoch 00050 | Loss 166.1635 | Test Acc 0.8848 | Time(s) 0.4229\n",
      "Epoch 00051 | Loss 156.2141 | Test Acc 0.8833 | Time(s) 0.4229\n",
      "Epoch 00052 | Loss 146.6381 | Test Acc 0.8814 | Time(s) 0.4229\n",
      "Epoch 00053 | Loss 137.4376 | Test Acc 0.8808 | Time(s) 0.4229\n",
      "Epoch 00054 | Loss 128.6120 | Test Acc 0.8794 | Time(s) 0.4229\n",
      "Epoch 00055 | Loss 120.2216 | Test Acc 0.8777 | Time(s) 0.4228\n",
      "Epoch 00056 | Loss 112.2709 | Test Acc 0.8764 | Time(s) 0.4227\n",
      "Epoch 00057 | Loss 104.8349 | Test Acc 0.8755 | Time(s) 0.4228\n",
      "Epoch 00058 | Loss 97.7646 | Test Acc 0.8744 | Time(s) 0.4227\n",
      "Epoch 00059 | Loss 91.0164 | Test Acc 0.8727 | Time(s) 0.4230\n",
      "Epoch 00060 | Loss 84.5807 | Test Acc 0.8717 | Time(s) 0.4230\n",
      "Epoch 00061 | Loss 78.4628 | Test Acc 0.8707 | Time(s) 0.4229\n",
      "Epoch 00062 | Loss 72.6568 | Test Acc 0.8700 | Time(s) 0.4229\n",
      "Epoch 00063 | Loss 67.2138 | Test Acc 0.8682 | Time(s) 0.4230\n",
      "Epoch 00064 | Loss 62.1279 | Test Acc 0.8671 | Time(s) 0.4229\n",
      "Epoch 00065 | Loss 57.2617 | Test Acc 0.8657 | Time(s) 0.4228\n",
      "Epoch 00066 | Loss 52.6737 | Test Acc 0.8649 | Time(s) 0.4228\n",
      "Epoch 00067 | Loss 48.2972 | Test Acc 0.8630 | Time(s) 0.4227\n",
      "Epoch 00068 | Loss 44.0428 | Test Acc 0.8618 | Time(s) 0.4227\n",
      "Epoch 00069 | Loss 39.8564 | Test Acc 0.8608 | Time(s) 0.4227\n",
      "Epoch 00070 | Loss 35.7478 | Test Acc 0.8596 | Time(s) 0.4228\n",
      "Epoch 00071 | Loss 31.7124 | Test Acc 0.8597 | Time(s) 0.4227\n",
      "Epoch 00072 | Loss 27.7315 | Test Acc 0.8645 | Time(s) 0.4229\n",
      "Epoch 00073 | Loss 23.7565 | Test Acc 0.8704 | Time(s) 0.4229\n",
      "Epoch 00074 | Loss 19.7458 | Test Acc 0.8745 | Time(s) 0.4228\n",
      "Epoch 00075 | Loss 15.6461 | Test Acc 0.8708 | Time(s) 0.4229\n",
      "Epoch 00076 | Loss 11.4845 | Test Acc 0.8427 | Time(s) 0.4230\n",
      "Epoch 00077 | Loss 7.8420 | Test Acc 0.7779 | Time(s) 0.4231\n",
      "Epoch 00078 | Loss 6.3811 | Test Acc 0.6748 | Time(s) 0.4236\n",
      "Epoch 00079 | Loss 19.7151 | Test Acc 0.8951 | Time(s) 0.4237\n",
      "Epoch 00080 | Loss 4.0139 | Test Acc 0.8624 | Time(s) 0.4240\n",
      "Epoch 00081 | Loss 3.9477 | Test Acc 0.9021 | Time(s) 0.4240\n",
      "Epoch 00082 | Loss 5.3463 | Test Acc 0.9034 | Time(s) 0.4241\n",
      "Epoch 00083 | Loss 4.8642 | Test Acc 0.8918 | Time(s) 0.4242\n",
      "Epoch 00084 | Loss 4.0219 | Test Acc 0.8675 | Time(s) 0.4241\n",
      "Epoch 00085 | Loss 4.0259 | Test Acc 0.8467 | Time(s) 0.4241\n",
      "Epoch 00086 | Loss 3.8845 | Test Acc 0.8324 | Time(s) 0.4241\n",
      "Epoch 00087 | Loss 3.6903 | Test Acc 0.8208 | Time(s) 0.4241\n",
      "Epoch 00088 | Loss 3.4937 | Test Acc 0.8169 | Time(s) 0.4244\n",
      "Epoch 00089 | Loss 3.2800 | Test Acc 0.8180 | Time(s) 0.4244\n",
      "Epoch 00090 | Loss 3.0158 | Test Acc 0.8259 | Time(s) 0.4244\n",
      "Epoch 00091 | Loss 2.7297 | Test Acc 0.8345 | Time(s) 0.4245\n",
      "Epoch 00092 | Loss 2.4593 | Test Acc 0.8446 | Time(s) 0.4245\n",
      "Epoch 00093 | Loss 2.2004 | Test Acc 0.8511 | Time(s) 0.4245\n",
      "Epoch 00094 | Loss 1.9411 | Test Acc 0.8547 | Time(s) 0.4246\n",
      "Epoch 00095 | Loss 1.6691 | Test Acc 0.8527 | Time(s) 0.4252\n",
      "Epoch 00096 | Loss 1.4124 | Test Acc 0.8373 | Time(s) 0.4258\n",
      "Epoch 00097 | Loss 1.3966 | Test Acc 0.8728 | Time(s) 0.4263\n",
      "Epoch 00098 | Loss 1.1898 | Test Acc 0.9006 | Time(s) 0.4271\n",
      "Epoch 00099 | Loss 1.2544 | Test Acc 0.9058 | Time(s) 0.4276\n",
      "Model Done Training\n"
     ]
    }
   ],
   "source": [
    "model = train_gcn_model()"
   ]
  },
  {
   "cell_type": "code",
   "execution_count": 3,
   "id": "2e43491a",
   "metadata": {},
   "outputs": [],
   "source": [
    "path_to_data = 'dataset/ellipticGraph'\n",
    "g, features, num_nodes, feature_dim, train_ids, test_ids, train_labels, test_labels = load_elliptic_data(path_to_data)"
   ]
  },
  {
   "cell_type": "code",
   "execution_count": 4,
   "id": "21c22880",
   "metadata": {},
   "outputs": [],
   "source": [
    "model.eval()\n",
    "with th.no_grad():\n",
    "    logits = model(g, features)\n",
    "    logits = logits[test_ids]\n",
    "    _, indices = th.max(logits, dim=1)"
   ]
  },
  {
   "cell_type": "code",
   "execution_count": 5,
   "id": "ea3063c9",
   "metadata": {},
   "outputs": [
    {
     "data": {
      "text/plain": [
       "0.8881133898851068"
      ]
     },
     "execution_count": 5,
     "metadata": {},
     "output_type": "execute_result"
    }
   ],
   "source": [
    "correct = th.sum(indices == test_labels)\n",
    "correct.item() * 1.0 / len(test_labels)"
   ]
  },
  {
   "cell_type": "code",
   "execution_count": 6,
   "id": "6d2d62b0",
   "metadata": {},
   "outputs": [],
   "source": [
    "confusion_matrix = metrics.confusion_matrix(test_labels, indices)"
   ]
  },
  {
   "cell_type": "code",
   "execution_count": 7,
   "id": "869d4e22",
   "metadata": {},
   "outputs": [
    {
     "data": {
      "text/plain": [
       "0.7079065473941587"
      ]
     },
     "execution_count": 7,
     "metadata": {},
     "output_type": "execute_result"
    }
   ],
   "source": [
    "metrics.f1_score(test_labels, indices, average=\"macro\")"
   ]
  },
  {
   "cell_type": "code",
   "execution_count": 8,
   "id": "5c46d2e7",
   "metadata": {},
   "outputs": [
    {
     "data": {
      "text/plain": [
       "0.725181704725429"
      ]
     },
     "execution_count": 8,
     "metadata": {},
     "output_type": "execute_result"
    }
   ],
   "source": [
    "metrics.roc_auc_score(test_labels, indices)"
   ]
  },
  {
   "cell_type": "code",
   "execution_count": 9,
   "id": "8e90f366",
   "metadata": {},
   "outputs": [
    {
     "data": {
      "text/plain": [
       "0.6962541619500834"
      ]
     },
     "execution_count": 9,
     "metadata": {},
     "output_type": "execute_result"
    }
   ],
   "source": [
    "geometric_mean_score(test_labels, indices)"
   ]
  },
  {
   "cell_type": "code",
   "execution_count": 19,
   "id": "b5fc5540",
   "metadata": {},
   "outputs": [],
   "source": [
    "fpr, tpr, _ = metrics.roc_curve(test_labels, indices)\n",
    "roc_auc = metrics.roc_auc_score(test_labels, indices)"
   ]
  },
  {
   "cell_type": "code",
   "execution_count": 21,
   "id": "19b97d39",
   "metadata": {},
   "outputs": [
    {
     "data": {
      "image/png": "[encoded data removed]",
      "text/plain": [
       "<Figure size 432x288 with 1 Axes>"
      ]
     },
     "metadata": {
      "needs_background": "light"
     },
     "output_type": "display_data"
    }
   ],
   "source": [
    "rocCurve = plt.figure()\n",
    "plt.plot(fpr, tpr, '-', label='GCN' + '_' + 'elliptic' + '(AUC = %0.4f)' % roc_auc)\n",
    "plt.title('ROC curve', fontsize=14)\n",
    "plt.xlabel('FPR (False Positive Rate)', fontsize=15)\n",
    "plt.ylabel('TPR (True Positive Rate)', fontsize=15)\n",
    "plt.legend(loc='lower right')\n",
    "plt.xticks(fontsize=15)\n",
    "plt.yticks(fontsize=15)\n",
    "plt.show()"
   ]
  },
  {
   "cell_type": "markdown",
   "id": "f89e0f38",
   "metadata": {},
   "source": [
    "## Graph SAGE"
   ]
  },
  {
   "cell_type": "code",
   "execution_count": null,
   "id": "5d587a3b",
   "metadata": {},
   "outputs": [],
   "source": []
  },
  {
   "cell_type": "code",
   "execution_count": 3,
   "id": "e58c21b2",
   "metadata": {},
   "outputs": [
    {
     "name": "stdout",
     "output_type": "stream",
     "text": [
      "Training graphSAGE model...\n",
      "Done Training\n"
     ]
    }
   ],
   "source": [
    "model = train_sage_model()"
   ]
  },
  {
   "cell_type": "code",
   "execution_count": 4,
   "id": "72810c62",
   "metadata": {},
   "outputs": [
    {
     "data": {
      "text/plain": [
       "(0.6761507970572151, 0.6228423499219824, 0.49665985670772006)"
      ]
     },
     "execution_count": 4,
     "metadata": {},
     "output_type": "execute_result"
    }
   ],
   "source": [
    "g, features, num_nodes, feature_dim, train_ids, test_ids, train_labels, test_labels = load_elliptic_data(\n",
    "            'dataset/ellipticGraph')\n",
    "performance_metrics(model, g, features, test_labels, test_ids)"
   ]
  },
  {
   "cell_type": "code",
   "execution_count": 6,
   "id": "c1cd96d9",
   "metadata": {},
   "outputs": [
    {
     "name": "stdout",
     "output_type": "stream",
     "text": [
      "Training with DGL built-in GCN module\n",
      "Model Done Training\n"
     ]
    },
    {
     "data": {
      "text/plain": [
       "(0.7316635935685217, 0.7285494941765561, 0.6941955006801486)"
      ]
     },
     "execution_count": 6,
     "metadata": {},
     "output_type": "execute_result"
    }
   ],
   "source": [
    "gcn_model = train_gcn_model()\n",
    "performance_metrics(gcn_model, g, features, test_labels, test_ids)"
   ]
  },
  {
   "cell_type": "code",
   "execution_count": 7,
   "id": "470a56ba",
   "metadata": {},
   "outputs": [],
   "source": [
    "import pandas as pd"
   ]
  },
  {
   "cell_type": "code",
   "execution_count": 10,
   "id": "fdf81b0f",
   "metadata": {},
   "outputs": [
    {
     "data": {
      "text/html": [
       "<div>\n",
       "<style scoped>\n",
       "    .dataframe tbody tr th:only-of-type {\n",
       "        vertical-align: middle;\n",
       "    }\n",
       "\n",
       "    .dataframe tbody tr th {\n",
       "        vertical-align: top;\n",
       "    }\n",
       "\n",
       "    .dataframe thead th {\n",
       "        text-align: right;\n",
       "    }\n",
       "</style>\n",
       "<table border=\"1\" class=\"dataframe\">\n",
       "  <thead>\n",
       "    <tr style=\"text-align: right;\">\n",
       "      <th></th>\n",
       "      <th>1</th>\n",
       "      <th>2</th>\n",
       "    </tr>\n",
       "  </thead>\n",
       "  <tbody>\n",
       "    <tr>\n",
       "      <th>row1</th>\n",
       "      <td>1</td>\n",
       "      <td>4</td>\n",
       "    </tr>\n",
       "    <tr>\n",
       "      <th>row2</th>\n",
       "      <td>2</td>\n",
       "      <td>5</td>\n",
       "    </tr>\n",
       "    <tr>\n",
       "      <th>row3</th>\n",
       "      <td>3</td>\n",
       "      <td>6</td>\n",
       "    </tr>\n",
       "  </tbody>\n",
       "</table>\n",
       "</div>"
      ],
      "text/plain": [
       "      1  2\n",
       "row1  1  4\n",
       "row2  2  5\n",
       "row3  3  6"
      ]
     },
     "execution_count": 10,
     "metadata": {},
     "output_type": "execute_result"
    }
   ],
   "source": [
    "pd.DataFrame({\"1\":[1, 2, 3], \"2\":[4, 5, 6]}, index=[\"row1\", \"row2\", \"row3\"])"
   ]
  },
  {
   "cell_type": "code",
   "execution_count": null,
   "id": "134e8e4b",
   "metadata": {},
   "outputs": [],
   "source": []
  }
 ],
 "metadata": {
  "kernelspec": {
   "display_name": "Python 3 (ipykernel)",
   "language": "python",
   "name": "python3"
  },
  "language_info": {
   "codemirror_mode": {
    "name": "ipython",
    "version": 3
   },
   "file_extension": ".py",
   "mimetype": "text/x-python",
   "name": "python",
   "nbconvert_exporter": "python",
   "pygments_lexer": "ipython3",
   "version": "3.9.7"
  }
 },
 "nbformat": 4,
 "nbformat_minor": 5
}
